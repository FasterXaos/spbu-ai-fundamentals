{
 "cells": [
  {
   "cell_type": "code",
   "execution_count": null,
   "metadata": {},
   "outputs": [],
   "source": [
    "import yaml\n",
    "import numpy as np\n",
    "import pandas as pd\n",
    "from matplotlib import pyplot as plt\n",
    "import seaborn as sns"
   ]
  },
  {
   "cell_type": "code",
   "execution_count": null,
   "metadata": {},
   "outputs": [],
   "source": [
    "trainDf = pd.read_csv('train_hw.csv')\n",
    "testDf = pd.read_csv('test_hw.csv')\n",
    "\n",
    "trainID = trainDf['Id']\n",
    "testID = testDf['Id']\n",
    "\n",
    "trainDf.drop('Id', axis = 1, inplace = True)\n",
    "testDf.drop('Id', axis = 1, inplace = True)\n",
    "\n",
    "print(trainDf.columns)\n",
    "trainDf.head(10)"
   ]
  },
  {
   "cell_type": "code",
   "execution_count": null,
   "metadata": {},
   "outputs": [],
   "source": [
    "for column in trainDf.columns:\n",
    "    print(f\"\\n=== {column} ===\")\n",
    "    print(trainDf[column].value_counts(dropna=False))"
   ]
  },
  {
   "cell_type": "markdown",
   "metadata": {},
   "source": [
    "SalePrice - цена продажи недвижимости в долларах.  \n",
    "MSSubClass - класс здания (значения 20, 30, 40, 45, ...).  \n",
    "MSZoning - общая классификация зонирования (A, C, FV, I, RH, RL, RP, RM).  \n",
    "LotFrontage - длина улицы, соединенной с участком, в футах.  \n",
    "LotArea - размер участка в квадратных футах.  \n",
    "Street - тип доступа к дороге (Grvl, Pave).  \n",
    "Alley - тип доступа к переулку (Grvl, Pave, NA).  \n",
    "LotShape - общая форма участка (Reg, IR1, IR2, IR3).  \n",
    "LandContour - рельеф участка (Lvl, Bnk, HLS, Low).  \n",
    "Utilities - доступные коммунальные услуги (AllPub, NoSewr, NoSeWa, ELO).  \n",
    "LotConfig - конфигурация участка (Inside, Corner, CulDSac, FR2, FR3).  \n",
    "LandSlope - уклон участка (Gtl, Mod, Sev).  \n",
    "Neighborhood - район в пределах города Эймс (различные районы: CollgCr, Veenker, Crawfor и др.).  \n",
    "Condition1 - близость к главной дороге или железной дороге (Norm, Feedr, Artery, RRAn, PosN и др.).  \n",
    "Condition2 - близость ко второй главной дороге или железной дороге (Norm, Feedr, Artery, RRAn и др.).  \n",
    "BldgType - тип жилища (1Fam, 2FmCon, Duplx, TwnhsE, TwnhsI).  \n",
    "HouseStyle - стиль жилища (1Story, 2Story, 1.5Fin, 1.5Unf, 2.5Fin и др.).  \n",
    "OverallQual - общая оценка качества материалов и отделки.  \n",
    "OverallCond - общая оценка состояния.  \n",
    "YearBuilt - год постройки.  \n",
    "YearRemodAdd - год последнего ремонта или реконструкции.  \n",
    "RoofStyle - тип крыши (Flat, Gable, Gambrel, Hip, Mansard, Shed).  \n",
    "RoofMatl - материал крыши (ClyTile, CompShg, Membran, Metal, Roll, Tar&Grv и др.).  \n",
    "Exterior1st - основное внешнее покрытие дома (VinylSd, MetalSd, BrkFace и др.).  \n",
    "Exterior2nd - вторичное внешнее покрытие дома (если есть) (VinylSd, MetalSd, BrkFace и др.).  \n",
    "MasVnrType - тип каменного шпона (BrkCmn, BrkFace, None, Stone).  \n",
    "MasVnrArea - площадь каменного шпона в квадратных футах.  \n",
    "ExterQual - качество внешних материалов (Ex, Gd, TA, Fa, Po).  \n",
    "ExterCond - текущее состояние внешних материалов (Ex, Gd, TA, Fa, Po).  \n",
    "Foundation - тип фундамента (BrkTil, CBlock, PConc, Slab, Stone, Wood).  \n",
    "BsmtQual - высота подвала (Ex, Gd, TA, Fa, Po, NA).  \n",
    "BsmtCond - общее состояние подвала (Ex, Gd, TA, Fa, Po, NA).  \n",
    "BsmtExposure - наличие окон или выхода в сад (Gd, Av, Mn, No, NA).  \n",
    "BsmtFinType1 - качество отделки подвала (GLQ, ALQ, BLQ, Rec, LwQ, Unf, NA).  \n",
    "BsmtFinSF1 - площадь отделки первого типа в подвале (от 0 до 5644).  \n",
    "BsmtFinType2 - качество второй отделки подвала (GLQ, ALQ, BLQ, Rec, LwQ, Unf, NA).  \n",
    "BsmtFinSF2 - площадь второй отделки подвала в квадратных футах (от 0 до 1500).  \n",
    "BsmtUnfSF - площадь неотделанного подвала.  \n",
    "TotalBsmtSF - общая площадь подвала.  \n",
    "Heating - тип отопления (Floor, GasA, GasW, Grav, OthW, Wall).  \n",
    "HeatingQC - качество и состояние отопления (Ex, Gd, TA, Fa, Po).  \n",
    "CentralAir - наличие центрального кондиционирования (N, Y).  \n",
    "Electrical - электрическая система (SBrkr, FuseA, FuseF, FuseP, Mix).  \n",
    "1stFlrSF - площадь первого этажа в квадратных футах.  \n",
    "2ndFlrSF - площадь второго этажа в квадратных футах.  \n",
    "LowQualFinSF - площадь низкокачественной отделки в квадратных футах.  \n",
    "GrLivArea - общая жилая площадь над землей в квадратных футах.  \n",
    "BsmtFullBath - количество полноценных ванных комнат в подвале.  \n",
    "BsmtHalfBath - количество половинных ванных комнат в подвале.  \n",
    "FullBath - количество полноценных ванных комнат над землей.  \n",
    "HalfBath - количество половинных ванных комнат над землей.  \n",
    "Bedroom - количество спален выше уровня подвала.  \n",
    "Kitchen - количество кухонь.  \n",
    "KitchenQual - качество кухни (Ex, Gd, TA, Fa, Po).  \n",
    "TotRmsAbvGrd - общее количество комнат над землей (не включая ванные).  \n",
    "Functional - рейтинг функциональности дома (Typ, Min1, Min2, Mod, Maj1, Maj2, Sev, Sal).  \n",
    "Fireplaces - количество каминов.  \n",
    "FireplaceQu - качество камина (Ex, Gd, TA, Fa, Po, NA).  \n",
    "GarageType - расположение гаража (2Types, Attchd, Basmt, BuiltIn, CarPort, Detchd, NA).  \n",
    "GarageYrBlt - год постройки гаража.  \n",
    "GarageFinish - внутренняя отделка гаража (Fin, RFn, Unf, NA).  \n",
    "GarageCars - вместимость гаража в машинах.  \n",
    "GarageArea - площадь гаража в квадратных футах.  \n",
    "GarageQual - качество гаража (Ex, Gd, TA, Fa, Po, NA).  \n",
    "GarageCond - состояние гаража (Ex, Gd, TA, Fa, Po, NA).  \n",
    "PavedDrive - наличие асфальтированной подъездной дороги (Y, P, N).  \n",
    "WoodDeckSF - площадь деревянной террасы в квадратных футах.  \n",
    "OpenPorchSF - площадь открытой веранды в квадратных футах.  \n",
    "EnclosedPorch - площадь закрытой веранды в квадратных футах.  \n",
    "3SsnPorch - площадь веранды для трех сезонов в квадратных футах.  \n",
    "ScreenPorch - площадь веранды с москитной сеткой в квадратных футах.  \n",
    "PoolArea - площадь бассейна в квадратных футах.  \n",
    "PoolQC - качество бассейна (Ex, Gd, TA, Fa, NA).  \n",
    "Fence - качество забора (GdPrv, MnPrv, GdWo, MnWw, NA).  \n",
    "MiscFeature - дополнительные характеристики (Elev, Gar2, Othr, Shed, TenC, NA).  \n",
    "MiscVal - стоимость дополнительных характеристик в долларах.  \n",
    "MoSold - месяц продажи.  \n",
    "YrSold - год продажи.  \n",
    "SaleType - тип продажи (WD, CWD, VWD, New, COD, Con и др.).  \n",
    "SaleCondition - состояние продажи (Normal, Abnorml, AdjLand, Alloca, Family, Partial).  "
   ]
  },
  {
   "cell_type": "markdown",
   "metadata": {},
   "source": [
    "# Data Processing"
   ]
  },
  {
   "cell_type": "markdown",
   "metadata": {},
   "source": [
    "## Outliers"
   ]
  },
  {
   "cell_type": "code",
   "execution_count": null,
   "metadata": {},
   "outputs": [],
   "source": [
    "corrFeatures = ['OverallQual', 'YearBuilt', 'YearRemodAdd', 'TotalBsmtSF', '1stFlrSF', 'GrLivArea', 'GarageCars', 'GarageArea']\n",
    "\n",
    "fig, axes = plt.subplots(len(corrFeatures), 2, figsize=(12, 5 * len(corrFeatures)))\n",
    "\n",
    "for i, feature in enumerate(corrFeatures):\n",
    "    axes[i, 0].scatter(x=trainDf[feature], y=trainDf['SalePrice'], alpha=0.5)\n",
    "    axes[i, 0].set_title(f'Before Outlier Removal: {feature}', fontsize=14)\n",
    "    axes[i, 0].set_xlabel(feature, fontsize=13)\n",
    "    axes[i, 0].set_ylabel('SalePrice', fontsize=13)\n",
    "\n",
    "trainDf = trainDf.drop(trainDf[(trainDf['GrLivArea']>4000)].index)\n",
    "trainDf = trainDf.drop(trainDf[(trainDf['TotalBsmtSF']>2750)].index)\n",
    "trainDf = trainDf.drop(trainDf[(trainDf['1stFlrSF']>2750)].index)\n",
    "\n",
    "for i, feature in enumerate(corrFeatures):\n",
    "    axes[i, 1].scatter(x=trainDf[feature], y=trainDf['SalePrice'], alpha=0.5)\n",
    "    axes[i, 1].set_title(f'After Outlier Removal: {feature}', fontsize=14)\n",
    "    axes[i, 1].set_xlabel(feature, fontsize=13)\n",
    "    axes[i, 1].set_ylabel('SalePrice', fontsize=13)\n",
    "\n",
    "plt.tight_layout()\n",
    "plt.show()"
   ]
  },
  {
   "cell_type": "markdown",
   "metadata": {},
   "source": [
    "## Target Variable"
   ]
  },
  {
   "cell_type": "code",
   "execution_count": null,
   "metadata": {},
   "outputs": [],
   "source": [
    "import scipy.stats as stats\n",
    "\n",
    "fig, axes = plt.subplots(2, 2, figsize=(12, 10))\n",
    "\n",
    "sns.histplot(trainDf['SalePrice'], kde=True, ax=axes[0, 0])\n",
    "axes[0, 0].set_title('Original SalePrice Distribution')\n",
    "axes[0, 0].set_ylabel('Frequency')\n",
    "\n",
    "axes[0, 0].axvline(trainDf['SalePrice'].mean(), color='r', linestyle='dashed', linewidth=2, label='Mean')\n",
    "axes[0, 0].axvline(trainDf['SalePrice'].median(), color='g', linestyle='dashed', linewidth=2, label='Median')\n",
    "axes[0, 0].legend()\n",
    "\n",
    "stats.probplot(trainDf['SalePrice'], plot=axes[0, 1])\n",
    "axes[0, 1].set_title('QQ-Plot of Original SalePrice')\n",
    "\n",
    "trainDf[\"SalePrice\"] = np.log1p(trainDf[\"SalePrice\"])\n",
    "\n",
    "sns.histplot(trainDf['SalePrice'], kde=True, ax=axes[1, 0])\n",
    "axes[1, 0].set_title('Log-Transformed SalePrice Distribution')\n",
    "axes[1, 0].set_ylabel('Frequency')\n",
    "\n",
    "axes[1, 0].axvline(trainDf['SalePrice'].mean(), color='r', linestyle='dashed', linewidth=2, label='Mean')\n",
    "axes[1, 0].axvline(trainDf['SalePrice'].median(), color='g', linestyle='dashed', linewidth=2, label='Median')\n",
    "axes[1, 0].legend()\n",
    "\n",
    "stats.probplot(trainDf['SalePrice'], plot=axes[1, 1])\n",
    "axes[1, 1].set_title('QQ-Plot of Log-Transformed SalePrice')\n",
    "\n",
    "plt.tight_layout()\n",
    "plt.show()\n"
   ]
  },
  {
   "cell_type": "markdown",
   "metadata": {},
   "source": [
    "## Data correlation"
   ]
  },
  {
   "cell_type": "code",
   "execution_count": null,
   "metadata": {},
   "outputs": [],
   "source": [
    "numericCols = trainDf.select_dtypes(include=['number'])\n",
    "plt.figure(figsize=(12, 9))\n",
    "sns.heatmap(numericCols.corr(), vmax=0.9, square=True, cmap=\"coolwarm\", annot=False)\n",
    "plt.title(\"Correlation matrix\")\n",
    "plt.show()"
   ]
  },
  {
   "cell_type": "markdown",
   "metadata": {},
   "source": [
    "## Missing Data"
   ]
  },
  {
   "cell_type": "code",
   "execution_count": null,
   "metadata": {},
   "outputs": [],
   "source": [
    "ntrain = trainDf.shape[0]\n",
    "ntest = testDf.shape[0]\n",
    "\n",
    "Ytrain = trainDf['SalePrice'].values\n",
    "allData = pd.concat((trainDf, testDf)).reset_index(drop=True)\n",
    "allData.drop(['SalePrice'], axis=1, inplace=True)"
   ]
  },
  {
   "cell_type": "code",
   "execution_count": null,
   "metadata": {},
   "outputs": [],
   "source": [
    "allDataNan = (allData.isnull().sum() / len(allData)) * 100\n",
    "allDataNan = allDataNan[allDataNan > 0].sort_values(ascending=False)\n",
    "missingData = pd.DataFrame({'Missing Ratio': allDataNan})\n",
    "\n",
    "display(missingData)"
   ]
  },
  {
   "cell_type": "code",
   "execution_count": null,
   "metadata": {},
   "outputs": [],
   "source": [
    "def fillMissing(df):\n",
    "    df['PoolQC'] = df['PoolQC'].fillna('None')\n",
    "    df['MiscFeature'] = df['MiscFeature'].fillna('None')\n",
    "    df['Alley'] = df['Alley'].fillna('None')\n",
    "    df['Fence'] = df['Fence'].fillna('None')\n",
    "    df['FireplaceQu'] = df['FireplaceQu'].fillna('None')\n",
    "\n",
    "    df['LotFrontage'] = df.groupby('Neighborhood')['LotFrontage'].transform(\n",
    "        lambda x: x.fillna(x.median())\n",
    "    )\n",
    "\n",
    "    for col in ('GarageType', 'GarageFinish', 'GarageQual', 'GarageCond'):\n",
    "        df[col] = df[col].fillna('None')\n",
    "    df['GarageYrBlt'] = df['GarageYrBlt'].fillna(0)\n",
    "\n",
    "    for col in ('BsmtQual', 'BsmtCond', 'BsmtExposure', 'BsmtFinType1', 'BsmtFinType2'):\n",
    "        df[col] = df[col].fillna('None')\n",
    "\n",
    "    df['MasVnrType'] = df['MasVnrType'].fillna('None')\n",
    "    df['MasVnrArea'] = df['MasVnrArea'].fillna(0)\n",
    "\n",
    "    df['Electrical'] = df['Electrical'].fillna(df['Electrical'].mode()[0])\n",
    "        \n",
    "    return df\n",
    "\n",
    "\n",
    "allData = fillMissing(allData)"
   ]
  },
  {
   "cell_type": "code",
   "execution_count": null,
   "metadata": {},
   "outputs": [],
   "source": [
    "allDataNan = (allData.isnull().sum() / len(allData)) * 100\n",
    "allDataNan = allDataNan[allDataNan > 0].sort_values(ascending=False)\n",
    "missingData = pd.DataFrame({'Missing Ratio': allDataNan})\n",
    "\n",
    "display(missingData)"
   ]
  },
  {
   "cell_type": "markdown",
   "metadata": {},
   "source": [
    "## Categorization"
   ]
  },
  {
   "cell_type": "code",
   "execution_count": null,
   "metadata": {},
   "outputs": [],
   "source": [
    "def categorization(df):\n",
    "    df['MSSubClass'] = df['MSSubClass'].apply(str)\n",
    "    df['OverallCond'] = df['OverallCond'].astype(str)\n",
    "    df['YrSold'] = df['YrSold'].astype(str)\n",
    "    df['MoSold'] = df['MoSold'].astype(str)\n",
    "\n",
    "    return df\n",
    "\n",
    "allData = categorization(allData)"
   ]
  },
  {
   "cell_type": "markdown",
   "metadata": {},
   "source": [
    "# Encoding"
   ]
  },
  {
   "cell_type": "markdown",
   "metadata": {},
   "source": [
    "### Ordered sets"
   ]
  },
  {
   "cell_type": "code",
   "execution_count": null,
   "metadata": {},
   "outputs": [],
   "source": [
    "from sklearn.preprocessing import LabelEncoder\n",
    "\n",
    "cols = ('FireplaceQu', 'BsmtQual', 'BsmtCond', 'GarageQual', 'GarageCond', \n",
    "        'ExterQual', 'ExterCond','HeatingQC', 'PoolQC', 'KitchenQual', 'BsmtFinType1', \n",
    "        'BsmtFinType2', 'Functional', 'Fence', 'BsmtExposure', 'GarageFinish', 'LandSlope',\n",
    "        'LotShape', 'PavedDrive', 'Street', 'Alley', 'CentralAir', 'MSSubClass', 'OverallCond', \n",
    "        'YrSold', 'MoSold')\n",
    "\n",
    "for col in cols:\n",
    "    lb = LabelEncoder() \n",
    "    lb.fit(list(allData[col].values)) \n",
    "    allData[col] = lb.transform(list(allData[col].values))   \n",
    "print(\"Shape all_data: {}\".format(allData.shape))"
   ]
  },
  {
   "cell_type": "markdown",
   "metadata": {},
   "source": [
    "# Feature engineering"
   ]
  },
  {
   "cell_type": "code",
   "execution_count": null,
   "metadata": {},
   "outputs": [],
   "source": [
    "allData['TotalSF'] = allData['TotalBsmtSF'] + allData['1stFlrSF'] + allData['2ndFlrSF']"
   ]
  },
  {
   "cell_type": "markdown",
   "metadata": {},
   "source": [
    "### Skewed features"
   ]
  },
  {
   "cell_type": "code",
   "execution_count": null,
   "metadata": {},
   "outputs": [],
   "source": [
    "from scipy.stats import skew\n",
    "\n",
    "numCols = allData.select_dtypes(exclude=['object']).columns\n",
    "\n",
    "skewedCols = allData[numCols].apply(lambda x: skew(x.dropna())).sort_values(ascending=False)\n",
    "skewness = pd.DataFrame({'Skew': skewedCols})\n",
    "\n",
    "display(skewness)"
   ]
  },
  {
   "cell_type": "code",
   "execution_count": null,
   "metadata": {},
   "outputs": [],
   "source": [
    "from scipy.special import boxcox1p\n",
    "\n",
    "skewness = skewness[abs(skewness) > 0.75].dropna()\n",
    "print(f\"There are {len(skewness)} skewed numerical features.\")\n",
    "\n",
    "skewedFeatures = skewness.index\n",
    "for feat in skewedFeatures:\n",
    "    skewValue = skewness.loc[feat, 'Skew']\n",
    "\n",
    "    if abs(skewValue) > 2: \n",
    "        lam = 0.05  \n",
    "    elif abs(skewValue) > 0.75:\n",
    "        lam = 0.15\n",
    "\n",
    "    allData[feat] = boxcox1p(allData[feat], lam)"
   ]
  },
  {
   "cell_type": "markdown",
   "metadata": {},
   "source": [
    "### Categorical features"
   ]
  },
  {
   "cell_type": "code",
   "execution_count": null,
   "metadata": {},
   "outputs": [],
   "source": [
    "allData = pd.get_dummies(allData)\n",
    "print(allData.shape)\n",
    "\n",
    "trainDf = allData[:ntrain]\n",
    "testDf = allData[ntrain:]"
   ]
  },
  {
   "cell_type": "markdown",
   "metadata": {},
   "source": [
    "### RMSE"
   ]
  },
  {
   "cell_type": "code",
   "execution_count": null,
   "metadata": {},
   "outputs": [],
   "source": [
    "from sklearn.model_selection import KFold, cross_val_score\n",
    "\n",
    "def rmsle_cv(model):\n",
    "    kf = KFold(n_splits = 5, shuffle=True, random_state=42)\n",
    "    rmse= np.sqrt(-cross_val_score(model, trainDf.values, Ytrain, scoring=\"neg_mean_squared_error\", cv = kf))\n",
    "    return(rmse)"
   ]
  },
  {
   "cell_type": "markdown",
   "metadata": {},
   "source": [
    "# Models"
   ]
  },
  {
   "cell_type": "code",
   "execution_count": null,
   "metadata": {},
   "outputs": [],
   "source": [
    "from sklearn.linear_model import ElasticNet, Lasso, LinearRegression, Ridge\n",
    "from sklearn.pipeline import make_pipeline\n",
    "from sklearn.preprocessing import RobustScaler\n",
    "from xgboost import XGBRegressor\n",
    "\n",
    "models = {\n",
    "    #\"Linear Regression\": make_pipeline(RobustScaler(), LinearRegression()),\n",
    "    \"Lasso Regression\": make_pipeline(RobustScaler(), Lasso(alpha=0.0005, random_state=42)),\n",
    "    \"Elastic Net\": make_pipeline(RobustScaler(), ElasticNet(alpha=0.0005, l1_ratio=0.9, random_state=42)),\n",
    "    #\"Ridge Regression\": Ridge(alpha=3, random_state=42),\n",
    "    #\"XGBoost Regressor\": XGBRegressor()\n",
    "}"
   ]
  },
  {
   "cell_type": "code",
   "execution_count": null,
   "metadata": {},
   "outputs": [],
   "source": [
    "from sklearn.metrics import mean_squared_error\n",
    "\n",
    "for name, model in models.items():\n",
    "    score = rmsle_cv(model)\n",
    "    print(f\"{name} score: {score.mean():.4f} ({score.std():.4f})\")\n",
    "\n",
    "fig, axes = plt.subplots(3, len(models), figsize=(20, 10))\n",
    "fig.suptitle('Model Performance')\n",
    "\n",
    "results = {}\n",
    "for i, (name, model) in enumerate(models.items()):\n",
    "    model.fit(trainDf.values, Ytrain)\n",
    "    YtrainPred = model.predict(trainDf.values)\n",
    "    YtestPred = model.predict(testDf.values)\n",
    "\n",
    "    YtrainPredExp = np.expm1(YtrainPred)\n",
    "    YtrainExp = np.expm1(Ytrain)\n",
    "    YtestPredExp = np.expm1(YtestPred)\n",
    "\n",
    "    trainRMSE = np.sqrt(mean_squared_error(YtrainExp, YtrainPredExp))\n",
    "    logRMSE = np.log1p(trainRMSE)\n",
    "    results[name] = trainRMSE\n",
    "    print(f'RMSE ({name}) на тренировочном наборе: {trainRMSE:.2f} (log: {logRMSE:.2f})')\n",
    "\n",
    "    sns.kdeplot(YtrainExp, label='Train True', fill=True, ax=axes[1, i])\n",
    "    sns.kdeplot(YtrainPredExp, label='Train Predictions', fill=True, ax=axes[1, i])\n",
    "    sns.kdeplot(YtestPredExp, label='Test Predictions', fill=True, ax=axes[1, i])\n",
    "    axes[1, i].set_title(f'Density of Predictions ({name})')\n",
    "    axes[1, i].legend()\n",
    "\n",
    "    axes[2, i].scatter(Ytrain, YtrainPred, alpha=0.5)\n",
    "    axes[2, i].set_xlabel('True Values')\n",
    "    axes[2, i].set_ylabel('Predictions')\n",
    "    axes[2, i].set_title(f'True vs Predicted ({name})')\n",
    "\n",
    "for i, (name, score) in enumerate(results.items()):\n",
    "    axes[0, i].bar(name, score, color='blue')\n",
    "    axes[0, i].set_title(f'RMSE: {score:.2f}')\n",
    "    axes[0, i].set_ylim(0, max(results.values()) * 1.2)\n",
    "\n",
    "plt.tight_layout()\n",
    "plt.show()\n",
    "\n",
    "bestModelName = min(results, key=results.get)\n",
    "finalModel = models[bestModelName].fit(trainDf.values, Ytrain)\n",
    "YtestPredFinal = np.expm1(finalModel.predict(testDf.values))\n",
    "\n",
    "submission = pd.DataFrame({\n",
    "    'Id': testID,\n",
    "    'SalePrice': YtestPredFinal\n",
    "})\n",
    "submission.to_csv('submission.csv', index=False)\n",
    "\n",
    "print(f\"Лучший алгоритм: {bestModelName} с RMSE {results[bestModelName]:.2f}\")\n",
    "print(\"Файл submission.csv сохранён!\")"
   ]
  }
 ],
 "metadata": {
  "kernelspec": {
   "display_name": "Python 3",
   "language": "python",
   "name": "python3"
  },
  "language_info": {
   "codemirror_mode": {
    "name": "ipython",
    "version": 3
   },
   "file_extension": ".py",
   "mimetype": "text/x-python",
   "name": "python",
   "nbconvert_exporter": "python",
   "pygments_lexer": "ipython3",
   "version": "3.10.6"
  }
 },
 "nbformat": 4,
 "nbformat_minor": 4
}
